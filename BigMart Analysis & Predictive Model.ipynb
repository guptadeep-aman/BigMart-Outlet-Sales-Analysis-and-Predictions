{
 "cells": [
  {
   "cell_type": "markdown",
   "id": "a53adf4a",
   "metadata": {},
   "source": [
    "# Problem Statement\n",
    "\n",
    "Introduction:\n",
    "The retail industry plays a crucial role in the economy, and accurately predicting sales can significantly impact business decisions and profitability. BigMart, a leading retail chain, wants to leverage data analytics and machine learning techniques to forecast the sales of its various stores. By accurately predicting sales, BigMart aims to optimize inventory management, plan promotions effectively, and improve overall business performance.\n",
    "\n",
    "Background:\n",
    "The data scientists at BigMart have collected 2013 sales data for 1559 products across 10 stores in different cities. Also, certain attributes of each product and store have been defined. The aim of this data science project is to build a predictive model and find out the sales of each product at a particular store.\n",
    "Using this model, BigMart will try to understand the properties of products and stores which play a key role in increasing sales.\n",
    "\n",
    "Objectives:\n",
    "The primary objectives of this project are as follows:\n",
    "Develop a regression model to predict the sales of BigMart stores.\n",
    "Achieve a high level of accuracy and precision in sales predictions.\n",
    "Identify the key factors that influence sales and quantify their impact.\n",
    "Provide actionable insights to BigMart for inventory management, pricing, and promotional strategies.\n",
    "\n",
    "Data:\n",
    "BigMart has provided a comprehensive dataset containing historical sales data for multiple stores. The dataset includes information such as Item_Identifier, Item_Weight, Item_Fat_Content, Item_Visibility, Item_Type, Item_MRP, Outlet_Identifier, Outlet_Establishment_Year, Outlet_Size, Outlet_Location_Type, Outlet_Type, Item_Outlet_Sales. This dataset will be utilized for training and evaluating the predictive model.\n",
    "\n",
    "\n",
    "\n"
   ]
  },
  {
   "cell_type": "markdown",
   "id": "6068139a",
   "metadata": {},
   "source": [
    "# Loading Packages and Data"
   ]
  },
  {
   "cell_type": "code",
   "execution_count": 1,
   "id": "ecd603c2",
   "metadata": {},
   "outputs": [],
   "source": [
    "import pandas as pd\n",
    "import numpy as np\n",
    "import matplotlib.pyplot as plt\n",
    "import seaborn as sns"
   ]
  },
  {
   "cell_type": "code",
   "execution_count": 2,
   "id": "e94a1544",
   "metadata": {},
   "outputs": [],
   "source": [
    "df = pd.read_csv(\"Train.csv\")"
   ]
  },
  {
   "cell_type": "code",
   "execution_count": 3,
   "id": "720dbcc3",
   "metadata": {
    "scrolled": false
   },
   "outputs": [
    {
     "data": {
      "text/html": [
       "<div>\n",
       "<style scoped>\n",
       "    .dataframe tbody tr th:only-of-type {\n",
       "        vertical-align: middle;\n",
       "    }\n",
       "\n",
       "    .dataframe tbody tr th {\n",
       "        vertical-align: top;\n",
       "    }\n",
       "\n",
       "    .dataframe thead th {\n",
       "        text-align: right;\n",
       "    }\n",
       "</style>\n",
       "<table border=\"1\" class=\"dataframe\">\n",
       "  <thead>\n",
       "    <tr style=\"text-align: right;\">\n",
       "      <th></th>\n",
       "      <th>Item_Identifier</th>\n",
       "      <th>Item_Weight</th>\n",
       "      <th>Item_Fat_Content</th>\n",
       "      <th>Item_Visibility</th>\n",
       "      <th>Item_Type</th>\n",
       "      <th>Item_MRP</th>\n",
       "      <th>Outlet_Identifier</th>\n",
       "      <th>Outlet_Establishment_Year</th>\n",
       "      <th>Outlet_Size</th>\n",
       "      <th>Outlet_Location_Type</th>\n",
       "      <th>Outlet_Type</th>\n",
       "      <th>Item_Outlet_Sales</th>\n",
       "    </tr>\n",
       "  </thead>\n",
       "  <tbody>\n",
       "    <tr>\n",
       "      <th>0</th>\n",
       "      <td>FDA15</td>\n",
       "      <td>9.300</td>\n",
       "      <td>Low Fat</td>\n",
       "      <td>0.016047</td>\n",
       "      <td>Dairy</td>\n",
       "      <td>249.8092</td>\n",
       "      <td>OUT049</td>\n",
       "      <td>1999</td>\n",
       "      <td>Medium</td>\n",
       "      <td>Tier 1</td>\n",
       "      <td>Supermarket Type1</td>\n",
       "      <td>3735.1380</td>\n",
       "    </tr>\n",
       "    <tr>\n",
       "      <th>1</th>\n",
       "      <td>DRC01</td>\n",
       "      <td>5.920</td>\n",
       "      <td>Regular</td>\n",
       "      <td>0.019278</td>\n",
       "      <td>Soft Drinks</td>\n",
       "      <td>48.2692</td>\n",
       "      <td>OUT018</td>\n",
       "      <td>2009</td>\n",
       "      <td>Medium</td>\n",
       "      <td>Tier 3</td>\n",
       "      <td>Supermarket Type2</td>\n",
       "      <td>443.4228</td>\n",
       "    </tr>\n",
       "    <tr>\n",
       "      <th>2</th>\n",
       "      <td>FDN15</td>\n",
       "      <td>17.500</td>\n",
       "      <td>Low Fat</td>\n",
       "      <td>0.016760</td>\n",
       "      <td>Meat</td>\n",
       "      <td>141.6180</td>\n",
       "      <td>OUT049</td>\n",
       "      <td>1999</td>\n",
       "      <td>Medium</td>\n",
       "      <td>Tier 1</td>\n",
       "      <td>Supermarket Type1</td>\n",
       "      <td>2097.2700</td>\n",
       "    </tr>\n",
       "    <tr>\n",
       "      <th>3</th>\n",
       "      <td>FDX07</td>\n",
       "      <td>19.200</td>\n",
       "      <td>Regular</td>\n",
       "      <td>0.000000</td>\n",
       "      <td>Fruits and Vegetables</td>\n",
       "      <td>182.0950</td>\n",
       "      <td>OUT010</td>\n",
       "      <td>1998</td>\n",
       "      <td>NaN</td>\n",
       "      <td>Tier 3</td>\n",
       "      <td>Grocery Store</td>\n",
       "      <td>732.3800</td>\n",
       "    </tr>\n",
       "    <tr>\n",
       "      <th>4</th>\n",
       "      <td>NCD19</td>\n",
       "      <td>8.930</td>\n",
       "      <td>Low Fat</td>\n",
       "      <td>0.000000</td>\n",
       "      <td>Household</td>\n",
       "      <td>53.8614</td>\n",
       "      <td>OUT013</td>\n",
       "      <td>1987</td>\n",
       "      <td>High</td>\n",
       "      <td>Tier 3</td>\n",
       "      <td>Supermarket Type1</td>\n",
       "      <td>994.7052</td>\n",
       "    </tr>\n",
       "    <tr>\n",
       "      <th>5</th>\n",
       "      <td>FDP36</td>\n",
       "      <td>10.395</td>\n",
       "      <td>Regular</td>\n",
       "      <td>0.000000</td>\n",
       "      <td>Baking Goods</td>\n",
       "      <td>51.4008</td>\n",
       "      <td>OUT018</td>\n",
       "      <td>2009</td>\n",
       "      <td>Medium</td>\n",
       "      <td>Tier 3</td>\n",
       "      <td>Supermarket Type2</td>\n",
       "      <td>556.6088</td>\n",
       "    </tr>\n",
       "    <tr>\n",
       "      <th>6</th>\n",
       "      <td>FDO10</td>\n",
       "      <td>13.650</td>\n",
       "      <td>Regular</td>\n",
       "      <td>0.012741</td>\n",
       "      <td>Snack Foods</td>\n",
       "      <td>57.6588</td>\n",
       "      <td>OUT013</td>\n",
       "      <td>1987</td>\n",
       "      <td>High</td>\n",
       "      <td>Tier 3</td>\n",
       "      <td>Supermarket Type1</td>\n",
       "      <td>343.5528</td>\n",
       "    </tr>\n",
       "    <tr>\n",
       "      <th>7</th>\n",
       "      <td>FDP10</td>\n",
       "      <td>NaN</td>\n",
       "      <td>Low Fat</td>\n",
       "      <td>0.127470</td>\n",
       "      <td>Snack Foods</td>\n",
       "      <td>107.7622</td>\n",
       "      <td>OUT027</td>\n",
       "      <td>1985</td>\n",
       "      <td>Medium</td>\n",
       "      <td>Tier 3</td>\n",
       "      <td>Supermarket Type3</td>\n",
       "      <td>4022.7636</td>\n",
       "    </tr>\n",
       "    <tr>\n",
       "      <th>8</th>\n",
       "      <td>FDH17</td>\n",
       "      <td>16.200</td>\n",
       "      <td>Regular</td>\n",
       "      <td>0.016687</td>\n",
       "      <td>Frozen Foods</td>\n",
       "      <td>96.9726</td>\n",
       "      <td>OUT045</td>\n",
       "      <td>2002</td>\n",
       "      <td>NaN</td>\n",
       "      <td>Tier 2</td>\n",
       "      <td>Supermarket Type1</td>\n",
       "      <td>1076.5986</td>\n",
       "    </tr>\n",
       "    <tr>\n",
       "      <th>9</th>\n",
       "      <td>FDU28</td>\n",
       "      <td>19.200</td>\n",
       "      <td>Regular</td>\n",
       "      <td>0.094450</td>\n",
       "      <td>Frozen Foods</td>\n",
       "      <td>187.8214</td>\n",
       "      <td>OUT017</td>\n",
       "      <td>2007</td>\n",
       "      <td>NaN</td>\n",
       "      <td>Tier 2</td>\n",
       "      <td>Supermarket Type1</td>\n",
       "      <td>4710.5350</td>\n",
       "    </tr>\n",
       "  </tbody>\n",
       "</table>\n",
       "</div>"
      ],
      "text/plain": [
       "  Item_Identifier  Item_Weight Item_Fat_Content  Item_Visibility  \\\n",
       "0           FDA15        9.300          Low Fat         0.016047   \n",
       "1           DRC01        5.920          Regular         0.019278   \n",
       "2           FDN15       17.500          Low Fat         0.016760   \n",
       "3           FDX07       19.200          Regular         0.000000   \n",
       "4           NCD19        8.930          Low Fat         0.000000   \n",
       "5           FDP36       10.395          Regular         0.000000   \n",
       "6           FDO10       13.650          Regular         0.012741   \n",
       "7           FDP10          NaN          Low Fat         0.127470   \n",
       "8           FDH17       16.200          Regular         0.016687   \n",
       "9           FDU28       19.200          Regular         0.094450   \n",
       "\n",
       "               Item_Type  Item_MRP Outlet_Identifier  \\\n",
       "0                  Dairy  249.8092            OUT049   \n",
       "1            Soft Drinks   48.2692            OUT018   \n",
       "2                   Meat  141.6180            OUT049   \n",
       "3  Fruits and Vegetables  182.0950            OUT010   \n",
       "4              Household   53.8614            OUT013   \n",
       "5           Baking Goods   51.4008            OUT018   \n",
       "6            Snack Foods   57.6588            OUT013   \n",
       "7            Snack Foods  107.7622            OUT027   \n",
       "8           Frozen Foods   96.9726            OUT045   \n",
       "9           Frozen Foods  187.8214            OUT017   \n",
       "\n",
       "   Outlet_Establishment_Year Outlet_Size Outlet_Location_Type  \\\n",
       "0                       1999      Medium               Tier 1   \n",
       "1                       2009      Medium               Tier 3   \n",
       "2                       1999      Medium               Tier 1   \n",
       "3                       1998         NaN               Tier 3   \n",
       "4                       1987        High               Tier 3   \n",
       "5                       2009      Medium               Tier 3   \n",
       "6                       1987        High               Tier 3   \n",
       "7                       1985      Medium               Tier 3   \n",
       "8                       2002         NaN               Tier 2   \n",
       "9                       2007         NaN               Tier 2   \n",
       "\n",
       "         Outlet_Type  Item_Outlet_Sales  \n",
       "0  Supermarket Type1          3735.1380  \n",
       "1  Supermarket Type2           443.4228  \n",
       "2  Supermarket Type1          2097.2700  \n",
       "3      Grocery Store           732.3800  \n",
       "4  Supermarket Type1           994.7052  \n",
       "5  Supermarket Type2           556.6088  \n",
       "6  Supermarket Type1           343.5528  \n",
       "7  Supermarket Type3          4022.7636  \n",
       "8  Supermarket Type1          1076.5986  \n",
       "9  Supermarket Type1          4710.5350  "
      ]
     },
     "execution_count": 3,
     "metadata": {},
     "output_type": "execute_result"
    }
   ],
   "source": [
    "df.head(10)"
   ]
  },
  {
   "cell_type": "code",
   "execution_count": 4,
   "id": "e45bd0fd",
   "metadata": {},
   "outputs": [
    {
     "data": {
      "text/plain": [
       "(8523, 12)"
      ]
     },
     "execution_count": 4,
     "metadata": {},
     "output_type": "execute_result"
    }
   ],
   "source": [
    "df.shape"
   ]
  },
  {
   "cell_type": "code",
   "execution_count": 5,
   "id": "39d1e3d6",
   "metadata": {},
   "outputs": [
    {
     "name": "stdout",
     "output_type": "stream",
     "text": [
      "<class 'pandas.core.frame.DataFrame'>\n",
      "RangeIndex: 8523 entries, 0 to 8522\n",
      "Data columns (total 12 columns):\n",
      " #   Column                     Non-Null Count  Dtype  \n",
      "---  ------                     --------------  -----  \n",
      " 0   Item_Identifier            8523 non-null   object \n",
      " 1   Item_Weight                7060 non-null   float64\n",
      " 2   Item_Fat_Content           8523 non-null   object \n",
      " 3   Item_Visibility            8523 non-null   float64\n",
      " 4   Item_Type                  8523 non-null   object \n",
      " 5   Item_MRP                   8523 non-null   float64\n",
      " 6   Outlet_Identifier          8523 non-null   object \n",
      " 7   Outlet_Establishment_Year  8523 non-null   int64  \n",
      " 8   Outlet_Size                6113 non-null   object \n",
      " 9   Outlet_Location_Type       8523 non-null   object \n",
      " 10  Outlet_Type                8523 non-null   object \n",
      " 11  Item_Outlet_Sales          8523 non-null   float64\n",
      "dtypes: float64(4), int64(1), object(7)\n",
      "memory usage: 799.2+ KB\n"
     ]
    }
   ],
   "source": [
    "df.info()"
   ]
  },
  {
   "cell_type": "code",
   "execution_count": 6,
   "id": "0d6aab19",
   "metadata": {},
   "outputs": [
    {
     "data": {
      "text/html": [
       "<div>\n",
       "<style scoped>\n",
       "    .dataframe tbody tr th:only-of-type {\n",
       "        vertical-align: middle;\n",
       "    }\n",
       "\n",
       "    .dataframe tbody tr th {\n",
       "        vertical-align: top;\n",
       "    }\n",
       "\n",
       "    .dataframe thead th {\n",
       "        text-align: right;\n",
       "    }\n",
       "</style>\n",
       "<table border=\"1\" class=\"dataframe\">\n",
       "  <thead>\n",
       "    <tr style=\"text-align: right;\">\n",
       "      <th></th>\n",
       "      <th>Item_Weight</th>\n",
       "      <th>Item_Visibility</th>\n",
       "      <th>Item_MRP</th>\n",
       "      <th>Outlet_Establishment_Year</th>\n",
       "      <th>Item_Outlet_Sales</th>\n",
       "    </tr>\n",
       "  </thead>\n",
       "  <tbody>\n",
       "    <tr>\n",
       "      <th>count</th>\n",
       "      <td>7060.000000</td>\n",
       "      <td>8523.000000</td>\n",
       "      <td>8523.000000</td>\n",
       "      <td>8523.000000</td>\n",
       "      <td>8523.000000</td>\n",
       "    </tr>\n",
       "    <tr>\n",
       "      <th>mean</th>\n",
       "      <td>12.857645</td>\n",
       "      <td>0.066132</td>\n",
       "      <td>140.992782</td>\n",
       "      <td>1997.831867</td>\n",
       "      <td>2181.288914</td>\n",
       "    </tr>\n",
       "    <tr>\n",
       "      <th>std</th>\n",
       "      <td>4.643456</td>\n",
       "      <td>0.051598</td>\n",
       "      <td>62.275067</td>\n",
       "      <td>8.371760</td>\n",
       "      <td>1706.499616</td>\n",
       "    </tr>\n",
       "    <tr>\n",
       "      <th>min</th>\n",
       "      <td>4.555000</td>\n",
       "      <td>0.000000</td>\n",
       "      <td>31.290000</td>\n",
       "      <td>1985.000000</td>\n",
       "      <td>33.290000</td>\n",
       "    </tr>\n",
       "    <tr>\n",
       "      <th>25%</th>\n",
       "      <td>8.773750</td>\n",
       "      <td>0.026989</td>\n",
       "      <td>93.826500</td>\n",
       "      <td>1987.000000</td>\n",
       "      <td>834.247400</td>\n",
       "    </tr>\n",
       "    <tr>\n",
       "      <th>50%</th>\n",
       "      <td>12.600000</td>\n",
       "      <td>0.053931</td>\n",
       "      <td>143.012800</td>\n",
       "      <td>1999.000000</td>\n",
       "      <td>1794.331000</td>\n",
       "    </tr>\n",
       "    <tr>\n",
       "      <th>75%</th>\n",
       "      <td>16.850000</td>\n",
       "      <td>0.094585</td>\n",
       "      <td>185.643700</td>\n",
       "      <td>2004.000000</td>\n",
       "      <td>3101.296400</td>\n",
       "    </tr>\n",
       "    <tr>\n",
       "      <th>max</th>\n",
       "      <td>21.350000</td>\n",
       "      <td>0.328391</td>\n",
       "      <td>266.888400</td>\n",
       "      <td>2009.000000</td>\n",
       "      <td>13086.964800</td>\n",
       "    </tr>\n",
       "  </tbody>\n",
       "</table>\n",
       "</div>"
      ],
      "text/plain": [
       "       Item_Weight  Item_Visibility     Item_MRP  Outlet_Establishment_Year  \\\n",
       "count  7060.000000      8523.000000  8523.000000                8523.000000   \n",
       "mean     12.857645         0.066132   140.992782                1997.831867   \n",
       "std       4.643456         0.051598    62.275067                   8.371760   \n",
       "min       4.555000         0.000000    31.290000                1985.000000   \n",
       "25%       8.773750         0.026989    93.826500                1987.000000   \n",
       "50%      12.600000         0.053931   143.012800                1999.000000   \n",
       "75%      16.850000         0.094585   185.643700                2004.000000   \n",
       "max      21.350000         0.328391   266.888400                2009.000000   \n",
       "\n",
       "       Item_Outlet_Sales  \n",
       "count        8523.000000  \n",
       "mean         2181.288914  \n",
       "std          1706.499616  \n",
       "min            33.290000  \n",
       "25%           834.247400  \n",
       "50%          1794.331000  \n",
       "75%          3101.296400  \n",
       "max         13086.964800  "
      ]
     },
     "execution_count": 6,
     "metadata": {},
     "output_type": "execute_result"
    }
   ],
   "source": [
    "df.describe()"
   ]
  },
  {
   "cell_type": "markdown",
   "id": "22874498",
   "metadata": {},
   "source": [
    "# Missing Value Treatment"
   ]
  },
  {
   "cell_type": "code",
   "execution_count": 7,
   "id": "8cc02a55",
   "metadata": {
    "scrolled": true
   },
   "outputs": [
    {
     "data": {
      "text/plain": [
       "Item_Identifier                 0\n",
       "Item_Weight                  1463\n",
       "Item_Fat_Content                0\n",
       "Item_Visibility                 0\n",
       "Item_Type                       0\n",
       "Item_MRP                        0\n",
       "Outlet_Identifier               0\n",
       "Outlet_Establishment_Year       0\n",
       "Outlet_Size                  2410\n",
       "Outlet_Location_Type            0\n",
       "Outlet_Type                     0\n",
       "Item_Outlet_Sales               0\n",
       "dtype: int64"
      ]
     },
     "execution_count": 7,
     "metadata": {},
     "output_type": "execute_result"
    }
   ],
   "source": [
    "df.isnull().sum()"
   ]
  },
  {
   "cell_type": "markdown",
   "id": "c6e8fe01",
   "metadata": {},
   "source": [
    "In our dataset we have null values"
   ]
  },
  {
   "cell_type": "code",
   "execution_count": 8,
   "id": "04f12c78",
   "metadata": {},
   "outputs": [
    {
     "data": {
      "text/plain": [
       "Item_Identifier              1559\n",
       "Item_Weight                   415\n",
       "Item_Fat_Content                5\n",
       "Item_Visibility              7880\n",
       "Item_Type                      16\n",
       "Item_MRP                     5938\n",
       "Outlet_Identifier              10\n",
       "Outlet_Establishment_Year       9\n",
       "Outlet_Size                     3\n",
       "Outlet_Location_Type            3\n",
       "Outlet_Type                     4\n",
       "Item_Outlet_Sales            3493\n",
       "dtype: int64"
      ]
     },
     "execution_count": 8,
     "metadata": {},
     "output_type": "execute_result"
    }
   ],
   "source": [
    "df.nunique()"
   ]
  },
  {
   "cell_type": "code",
   "execution_count": 9,
   "id": "761da571",
   "metadata": {},
   "outputs": [
    {
     "data": {
      "text/plain": [
       "{'whiskers': [<matplotlib.lines.Line2D at 0x1d430c92340>,\n",
       "  <matplotlib.lines.Line2D at 0x1d430c926a0>],\n",
       " 'caps': [<matplotlib.lines.Line2D at 0x1d430c92a00>,\n",
       "  <matplotlib.lines.Line2D at 0x1d430c92d60>],\n",
       " 'boxes': [<matplotlib.lines.Line2D at 0x1d430c7cfa0>],\n",
       " 'medians': [<matplotlib.lines.Line2D at 0x1d431372100>],\n",
       " 'fliers': [<matplotlib.lines.Line2D at 0x1d431372460>],\n",
       " 'means': []}"
      ]
     },
     "execution_count": 9,
     "metadata": {},
     "output_type": "execute_result"
    },
    {
     "data": {
      "image/png": "[encoded data removed]",
      "text/plain": [
       "<Figure size 432x288 with 1 Axes>"
      ]
     },
     "metadata": {
      "needs_background": "light"
     },
     "output_type": "display_data"
    }
   ],
   "source": [
    "plt.boxplot(df['Item_Weight'])"
   ]
  },
  {
   "cell_type": "code",
   "execution_count": 10,
   "id": "c0e2fb1b",
   "metadata": {},
   "outputs": [],
   "source": [
    "#since we don't have outliers so we can perform mean imputation\n",
    "df['Item_Weight'].fillna(df['Item_Weight'].mean(), inplace = True)"
   ]
  },
  {
   "cell_type": "code",
   "execution_count": 11,
   "id": "8acfce56",
   "metadata": {},
   "outputs": [
    {
     "data": {
      "text/plain": [
       "0"
      ]
     },
     "execution_count": 11,
     "metadata": {},
     "output_type": "execute_result"
    }
   ],
   "source": [
    "df['Item_Weight'].isnull().sum()"
   ]
  },
  {
   "cell_type": "code",
   "execution_count": 12,
   "id": "6a609d4d",
   "metadata": {},
   "outputs": [
    {
     "data": {
      "text/plain": [
       "Medium    2793\n",
       "Small     2388\n",
       "High       932\n",
       "Name: Outlet_Size, dtype: int64"
      ]
     },
     "execution_count": 12,
     "metadata": {},
     "output_type": "execute_result"
    }
   ],
   "source": [
    "df[\"Outlet_Size\"].value_counts()"
   ]
  },
  {
   "cell_type": "code",
   "execution_count": 13,
   "id": "96935bc2",
   "metadata": {},
   "outputs": [
    {
     "data": {
      "text/plain": [
       "0"
      ]
     },
     "execution_count": 13,
     "metadata": {},
     "output_type": "execute_result"
    }
   ],
   "source": [
    "df.duplicated().sum()"
   ]
  },
  {
   "cell_type": "code",
   "execution_count": 14,
   "id": "c8b3b869",
   "metadata": {},
   "outputs": [],
   "source": [
    "df.loc[df['Outlet_Identifier'] == 'OUT010', 'Outlet_Size'] = 'Small'\n",
    "df['Outlet_Size'].fillna('High', inplace = True)"
   ]
  },
  {
   "cell_type": "code",
   "execution_count": 15,
   "id": "e63a33c1",
   "metadata": {},
   "outputs": [
    {
     "data": {
      "text/plain": [
       "Small     2943\n",
       "Medium    2793\n",
       "High      2787\n",
       "Name: Outlet_Size, dtype: int64"
      ]
     },
     "execution_count": 15,
     "metadata": {},
     "output_type": "execute_result"
    }
   ],
   "source": [
    "df['Outlet_Size'].value_counts()"
   ]
  },
  {
   "cell_type": "markdown",
   "id": "9116ea71",
   "metadata": {},
   "source": [
    "In our dataset we have have missing value in columns: Item_Weight and Outlet_Size.\n",
    "- For Item_Weight I have done 'mean imputation' because it do not have outliers.\n",
    "- To deal with missing value in columns Outlet_Size, performed some EDA before come to a conclusion that outlet OUT010 is of small type and rest missing value replaced by 'High'"
   ]
  },
  {
   "cell_type": "markdown",
   "id": "6b200beb",
   "metadata": {},
   "source": [
    "# Exploratory Data Analysis"
   ]
  },
  {
   "cell_type": "code",
   "execution_count": 16,
   "id": "7809f3e4",
   "metadata": {},
   "outputs": [],
   "source": [
    "cat_columns = [i for i in df.columns if df[i].dtype == 'O' ]\n",
    "num_columns = [i for i in df.columns if df[i].dtype != 'O' ]"
   ]
  },
  {
   "cell_type": "code",
   "execution_count": 17,
   "id": "c7faa607",
   "metadata": {},
   "outputs": [
    {
     "data": {
      "text/plain": [
       "['Item_Identifier',\n",
       " 'Item_Fat_Content',\n",
       " 'Item_Type',\n",
       " 'Outlet_Identifier',\n",
       " 'Outlet_Size',\n",
       " 'Outlet_Location_Type',\n",
       " 'Outlet_Type']"
      ]
     },
     "execution_count": 17,
     "metadata": {},
     "output_type": "execute_result"
    }
   ],
   "source": [
    "cat_columns"
   ]
  },
  {
   "cell_type": "code",
   "execution_count": 18,
   "id": "e2353e9d",
   "metadata": {},
   "outputs": [
    {
     "data": {
      "text/plain": [
       "['Item_Weight',\n",
       " 'Item_Visibility',\n",
       " 'Item_MRP',\n",
       " 'Outlet_Establishment_Year',\n",
       " 'Item_Outlet_Sales']"
      ]
     },
     "execution_count": 18,
     "metadata": {},
     "output_type": "execute_result"
    }
   ],
   "source": [
    "num_columns"
   ]
  },
  {
   "cell_type": "code",
   "execution_count": 19,
   "id": "f629f2b2",
   "metadata": {},
   "outputs": [
    {
     "name": "stdout",
     "output_type": "stream",
     "text": [
      "FDW13    10\n",
      "FDG33    10\n",
      "DRE49     9\n",
      "FDX20     9\n",
      "FDG09     9\n",
      "         ..\n",
      "DRF48     1\n",
      "FDO33     1\n",
      "FDC23     1\n",
      "FDQ60     1\n",
      "FDT35     1\n",
      "Name: Item_Identifier, Length: 1559, dtype: int64\n",
      " \n",
      "Low Fat    5089\n",
      "Regular    2889\n",
      "LF          316\n",
      "reg         117\n",
      "low fat     112\n",
      "Name: Item_Fat_Content, dtype: int64\n",
      " \n",
      "Fruits and Vegetables    1232\n",
      "Snack Foods              1200\n",
      "Household                 910\n",
      "Frozen Foods              856\n",
      "Dairy                     682\n",
      "Canned                    649\n",
      "Baking Goods              648\n",
      "Health and Hygiene        520\n",
      "Soft Drinks               445\n",
      "Meat                      425\n",
      "Breads                    251\n",
      "Hard Drinks               214\n",
      "Others                    169\n",
      "Starchy Foods             148\n",
      "Breakfast                 110\n",
      "Seafood                    64\n",
      "Name: Item_Type, dtype: int64\n",
      " \n",
      "OUT027    935\n",
      "OUT013    932\n",
      "OUT035    930\n",
      "OUT049    930\n",
      "OUT046    930\n",
      "OUT045    929\n",
      "OUT018    928\n",
      "OUT017    926\n",
      "OUT010    555\n",
      "OUT019    528\n",
      "Name: Outlet_Identifier, dtype: int64\n",
      " \n",
      "Small     2943\n",
      "Medium    2793\n",
      "High      2787\n",
      "Name: Outlet_Size, dtype: int64\n",
      " \n",
      "Tier 3    3350\n",
      "Tier 2    2785\n",
      "Tier 1    2388\n",
      "Name: Outlet_Location_Type, dtype: int64\n",
      " \n",
      "Supermarket Type1    5577\n",
      "Grocery Store        1083\n",
      "Supermarket Type3     935\n",
      "Supermarket Type2     928\n",
      "Name: Outlet_Type, dtype: int64\n",
      " \n"
     ]
    }
   ],
   "source": [
    "for i in cat_columns:\n",
    "    print(df[i].value_counts())\n",
    "    print(\" \")"
   ]
  },
  {
   "cell_type": "code",
   "execution_count": 20,
   "id": "96ea8e7e",
   "metadata": {},
   "outputs": [
    {
     "data": {
      "text/html": [
       "<div>\n",
       "<style scoped>\n",
       "    .dataframe tbody tr th:only-of-type {\n",
       "        vertical-align: middle;\n",
       "    }\n",
       "\n",
       "    .dataframe tbody tr th {\n",
       "        vertical-align: top;\n",
       "    }\n",
       "\n",
       "    .dataframe thead th {\n",
       "        text-align: right;\n",
       "    }\n",
       "</style>\n",
       "<table border=\"1\" class=\"dataframe\">\n",
       "  <thead>\n",
       "    <tr style=\"text-align: right;\">\n",
       "      <th></th>\n",
       "      <th>Item_Weight</th>\n",
       "      <th>Item_Visibility</th>\n",
       "      <th>Item_MRP</th>\n",
       "      <th>Outlet_Establishment_Year</th>\n",
       "      <th>Item_Outlet_Sales</th>\n",
       "    </tr>\n",
       "  </thead>\n",
       "  <tbody>\n",
       "    <tr>\n",
       "      <th>Item_Weight</th>\n",
       "      <td>1.000000</td>\n",
       "      <td>-0.012049</td>\n",
       "      <td>0.024756</td>\n",
       "      <td>-0.008301</td>\n",
       "      <td>0.011550</td>\n",
       "    </tr>\n",
       "    <tr>\n",
       "      <th>Item_Visibility</th>\n",
       "      <td>-0.012049</td>\n",
       "      <td>1.000000</td>\n",
       "      <td>-0.001315</td>\n",
       "      <td>-0.074834</td>\n",
       "      <td>-0.128625</td>\n",
       "    </tr>\n",
       "    <tr>\n",
       "      <th>Item_MRP</th>\n",
       "      <td>0.024756</td>\n",
       "      <td>-0.001315</td>\n",
       "      <td>1.000000</td>\n",
       "      <td>0.005020</td>\n",
       "      <td>0.567574</td>\n",
       "    </tr>\n",
       "    <tr>\n",
       "      <th>Outlet_Establishment_Year</th>\n",
       "      <td>-0.008301</td>\n",
       "      <td>-0.074834</td>\n",
       "      <td>0.005020</td>\n",
       "      <td>1.000000</td>\n",
       "      <td>-0.049135</td>\n",
       "    </tr>\n",
       "    <tr>\n",
       "      <th>Item_Outlet_Sales</th>\n",
       "      <td>0.011550</td>\n",
       "      <td>-0.128625</td>\n",
       "      <td>0.567574</td>\n",
       "      <td>-0.049135</td>\n",
       "      <td>1.000000</td>\n",
       "    </tr>\n",
       "  </tbody>\n",
       "</table>\n",
       "</div>"
      ],
      "text/plain": [
       "                           Item_Weight  Item_Visibility  Item_MRP  \\\n",
       "Item_Weight                   1.000000        -0.012049  0.024756   \n",
       "Item_Visibility              -0.012049         1.000000 -0.001315   \n",
       "Item_MRP                      0.024756        -0.001315  1.000000   \n",
       "Outlet_Establishment_Year    -0.008301        -0.074834  0.005020   \n",
       "Item_Outlet_Sales             0.011550        -0.128625  0.567574   \n",
       "\n",
       "                           Outlet_Establishment_Year  Item_Outlet_Sales  \n",
       "Item_Weight                                -0.008301           0.011550  \n",
       "Item_Visibility                            -0.074834          -0.128625  \n",
       "Item_MRP                                    0.005020           0.567574  \n",
       "Outlet_Establishment_Year                   1.000000          -0.049135  \n",
       "Item_Outlet_Sales                          -0.049135           1.000000  "
      ]
     },
     "execution_count": 20,
     "metadata": {},
     "output_type": "execute_result"
    }
   ],
   "source": [
    "df.corr()"
   ]
  },
  {
   "cell_type": "code",
   "execution_count": 21,
   "id": "f2b7efd8",
   "metadata": {},
   "outputs": [
    {
     "data": {
      "text/plain": [
       "<AxesSubplot:>"
      ]
     },
     "execution_count": 21,
     "metadata": {},
     "output_type": "execute_result"
    },
    {
     "data": {
      "image/png": "[encoded data removed]",
      "text/plain": [
       "<Figure size 720x720 with 2 Axes>"
      ]
     },
     "metadata": {
      "needs_background": "light"
     },
     "output_type": "display_data"
    }
   ],
   "source": [
    "plt.figure(figsize = (10,10))\n",
    "sns.heatmap(df.corr())"
   ]
  },
  {
   "cell_type": "markdown",
   "id": "f6fd701a",
   "metadata": {},
   "source": [
    "- Item_Outlet_sales is correlated with Item_MRP with some extend but not with rest numeric columns"
   ]
  },
  {
   "cell_type": "markdown",
   "id": "1727c426",
   "metadata": {},
   "source": [
    "# Visualization of Item_Outlet_Sales Vs Other Features "
   ]
  },
  {
   "cell_type": "code",
   "execution_count": 22,
   "id": "d57365de",
   "metadata": {},
   "outputs": [
    {
     "data": {
      "text/plain": [
       "Text(0.5, 0, 'Outlet Type')"
      ]
     },
     "execution_count": 22,
     "metadata": {},
     "output_type": "execute_result"
    },
    {
     "data": {
      "image/png": "[encoded data removed]",
      "text/plain": [
       "<Figure size 1296x360 with 3 Axes>"
      ]
     },
     "metadata": {
      "needs_background": "light"
     },
     "output_type": "display_data"
    }
   ],
   "source": [
    "plt.figure(figsize = (18,5))\n",
    "plt.subplot(1,3,1)\n",
    "df['Outlet_Size'].value_counts().plot(kind = 'bar')\n",
    "plt.xlabel(\"Outlet Size\")\n",
    "plt.subplot(1,3,2)\n",
    "df['Outlet_Location_Type'].value_counts().plot(kind = 'bar')\n",
    "plt.xlabel(\"Outlet Location Type\")\n",
    "plt.subplot(1,3,3)\n",
    "df['Outlet_Type'].value_counts().plot(kind = 'bar')\n",
    "plt.xlabel(\"Outlet Type\")"
   ]
  },
  {
   "cell_type": "code",
   "execution_count": 23,
   "id": "218948a7",
   "metadata": {},
   "outputs": [],
   "source": [
    "df[\"Item_Fat_Content\"] = df[\"Item_Fat_Content\"].str.replace('LF', 'Low Fat')\n",
    "df[\"Item_Fat_Content\"] = df[\"Item_Fat_Content\"].str.replace('low fat', 'Low Fat')\n",
    "df[\"Item_Fat_Content\"] = df[\"Item_Fat_Content\"].str.replace('reg', 'Regular')"
   ]
  },
  {
   "cell_type": "code",
   "execution_count": 24,
   "id": "55ecd922",
   "metadata": {
    "scrolled": true
   },
   "outputs": [
    {
     "data": {
      "text/plain": [
       "Low Fat    5517\n",
       "Regular    3006\n",
       "Name: Item_Fat_Content, dtype: int64"
      ]
     },
     "execution_count": 24,
     "metadata": {},
     "output_type": "execute_result"
    }
   ],
   "source": [
    "df[\"Item_Fat_Content\"].value_counts()"
   ]
  },
  {
   "cell_type": "code",
   "execution_count": 25,
   "id": "2368b4c6",
   "metadata": {},
   "outputs": [
    {
     "data": {
      "text/plain": [
       "Item_Fat_Content\n",
       "Low Fat    1.190409e+07\n",
       "Regular    6.687031e+06\n",
       "Name: Item_Outlet_Sales, dtype: float64"
      ]
     },
     "execution_count": 25,
     "metadata": {},
     "output_type": "execute_result"
    }
   ],
   "source": [
    "df.groupby(['Item_Fat_Content'])[\"Item_Outlet_Sales\"].sum()"
   ]
  },
  {
   "cell_type": "code",
   "execution_count": 26,
   "id": "01ba3a12",
   "metadata": {},
   "outputs": [
    {
     "data": {
      "text/plain": [
       "<AxesSubplot:xlabel='Item_Fat_Content'>"
      ]
     },
     "execution_count": 26,
     "metadata": {},
     "output_type": "execute_result"
    },
    {
     "data": {
      "image/png": "[encoded data removed]",
      "text/plain": [
       "<Figure size 432x288 with 1 Axes>"
      ]
     },
     "metadata": {
      "needs_background": "light"
     },
     "output_type": "display_data"
    }
   ],
   "source": [
    "df.groupby(['Item_Fat_Content'])[\"Item_Outlet_Sales\"].sum().plot(kind = 'bar')"
   ]
  },
  {
   "cell_type": "markdown",
   "id": "b24a3b24",
   "metadata": {},
   "source": [
    "- From above visualization we can say Customers prefer products with low fat"
   ]
  },
  {
   "cell_type": "code",
   "execution_count": 27,
   "id": "3a0eb03a",
   "metadata": {},
   "outputs": [
    {
     "data": {
      "text/plain": [
       "['Item_Identifier',\n",
       " 'Item_Fat_Content',\n",
       " 'Item_Type',\n",
       " 'Outlet_Identifier',\n",
       " 'Outlet_Size',\n",
       " 'Outlet_Location_Type',\n",
       " 'Outlet_Type']"
      ]
     },
     "execution_count": 27,
     "metadata": {},
     "output_type": "execute_result"
    }
   ],
   "source": [
    "cat_columns"
   ]
  },
  {
   "cell_type": "code",
   "execution_count": 28,
   "id": "fafca54d",
   "metadata": {},
   "outputs": [
    {
     "data": {
      "text/plain": [
       "Outlet_Identifier\n",
       "OUT010    1.883402e+05\n",
       "OUT013    2.142664e+06\n",
       "OUT017    2.167465e+06\n",
       "OUT018    1.851823e+06\n",
       "OUT019    1.796941e+05\n",
       "OUT027    3.453926e+06\n",
       "OUT035    2.268123e+06\n",
       "OUT045    2.036725e+06\n",
       "OUT046    2.118395e+06\n",
       "OUT049    2.183970e+06\n",
       "Name: Item_Outlet_Sales, dtype: float64"
      ]
     },
     "execution_count": 28,
     "metadata": {},
     "output_type": "execute_result"
    }
   ],
   "source": [
    "df.groupby(['Outlet_Identifier'])[\"Item_Outlet_Sales\"].sum()"
   ]
  },
  {
   "cell_type": "code",
   "execution_count": 29,
   "id": "d933bdc5",
   "metadata": {},
   "outputs": [
    {
     "data": {
      "text/plain": [
       "<AxesSubplot:ylabel='Item_Outlet_Sales'>"
      ]
     },
     "execution_count": 29,
     "metadata": {},
     "output_type": "execute_result"
    },
    {
     "data": {
      "image/png": "[encoded data removed]",
      "text/plain": [
       "<Figure size 720x720 with 1 Axes>"
      ]
     },
     "metadata": {},
     "output_type": "display_data"
    }
   ],
   "source": [
    "plt.figure(figsize = (10,10))\n",
    "df.groupby(['Outlet_Identifier'])[\"Item_Outlet_Sales\"].sum().plot(kind = 'pie', autopct = '%1.1f%%')"
   ]
  },
  {
   "cell_type": "code",
   "execution_count": 30,
   "id": "18f4b55c",
   "metadata": {},
   "outputs": [
    {
     "data": {
      "text/plain": [
       "Outlet_Size\n",
       "High      6.346854e+06\n",
       "Medium    7.489719e+06\n",
       "Small     4.754552e+06\n",
       "Name: Item_Outlet_Sales, dtype: float64"
      ]
     },
     "execution_count": 30,
     "metadata": {},
     "output_type": "execute_result"
    }
   ],
   "source": [
    "df.groupby(['Outlet_Size'])[\"Item_Outlet_Sales\"].sum()"
   ]
  },
  {
   "cell_type": "code",
   "execution_count": 31,
   "id": "a678d51b",
   "metadata": {},
   "outputs": [],
   "source": [
    "a = df.groupby(['Outlet_Size'])[\"Item_Outlet_Sales\"].sum().index"
   ]
  },
  {
   "cell_type": "code",
   "execution_count": 32,
   "id": "64c40075",
   "metadata": {},
   "outputs": [
    {
     "data": {
      "text/plain": [
       "[6346854.349199978, 7489718.6916, 4754552.369599995]"
      ]
     },
     "execution_count": 32,
     "metadata": {},
     "output_type": "execute_result"
    }
   ],
   "source": [
    "b = []\n",
    "for i in range(3):\n",
    "    a = df.groupby(['Outlet_Size'])[\"Item_Outlet_Sales\"].sum().get(i)\n",
    "    b.append(a)\n",
    "b"
   ]
  },
  {
   "cell_type": "code",
   "execution_count": 33,
   "id": "2a5cf4c2",
   "metadata": {},
   "outputs": [
    {
     "data": {
      "text/plain": [
       "<AxesSubplot:xlabel='Outlet_Size'>"
      ]
     },
     "execution_count": 33,
     "metadata": {},
     "output_type": "execute_result"
    },
    {
     "data": {
      "image/png": "[encoded data removed]",
      "text/plain": [
       "<Figure size 432x288 with 1 Axes>"
      ]
     },
     "metadata": {
      "needs_background": "light"
     },
     "output_type": "display_data"
    }
   ],
   "source": [
    "df.groupby(['Outlet_Size'])[\"Item_Outlet_Sales\"].sum().plot(kind = 'bar')"
   ]
  },
  {
   "cell_type": "code",
   "execution_count": 34,
   "id": "9d114894",
   "metadata": {},
   "outputs": [
    {
     "data": {
      "text/plain": [
       "Outlet_Location_Type\n",
       "Tier 1    4.482059e+06\n",
       "Tier 2    6.472314e+06\n",
       "Tier 3    7.636753e+06\n",
       "Name: Item_Outlet_Sales, dtype: float64"
      ]
     },
     "execution_count": 34,
     "metadata": {},
     "output_type": "execute_result"
    }
   ],
   "source": [
    "df.groupby(['Outlet_Location_Type'])[\"Item_Outlet_Sales\"].sum()"
   ]
  },
  {
   "cell_type": "code",
   "execution_count": 35,
   "id": "b3db5944",
   "metadata": {},
   "outputs": [
    {
     "data": {
      "text/plain": [
       "<AxesSubplot:xlabel='Outlet_Location_Type'>"
      ]
     },
     "execution_count": 35,
     "metadata": {},
     "output_type": "execute_result"
    },
    {
     "data": {
      "image/png": "[encoded data removed]",
      "text/plain": [
       "<Figure size 432x288 with 1 Axes>"
      ]
     },
     "metadata": {
      "needs_background": "light"
     },
     "output_type": "display_data"
    }
   ],
   "source": [
    "df.groupby(['Outlet_Location_Type'])[\"Item_Outlet_Sales\"].sum().plot(kind = 'bar')"
   ]
  },
  {
   "cell_type": "code",
   "execution_count": 36,
   "id": "7a4c51b1",
   "metadata": {},
   "outputs": [
    {
     "data": {
      "text/plain": [
       "<AxesSubplot:ylabel='Item_Outlet_Sales'>"
      ]
     },
     "execution_count": 36,
     "metadata": {},
     "output_type": "execute_result"
    },
    {
     "data": {
      "image/png": "[encoded data removed]",
      "text/plain": [
       "<Figure size 720x720 with 1 Axes>"
      ]
     },
     "metadata": {},
     "output_type": "display_data"
    }
   ],
   "source": [
    "plt.figure(figsize = (10,10))\n",
    "df.groupby(['Item_Type'])[\"Item_Outlet_Sales\"].sum().plot(kind = 'pie', autopct = '%1.1f%%')"
   ]
  },
  {
   "cell_type": "code",
   "execution_count": 37,
   "id": "4c9fae83",
   "metadata": {},
   "outputs": [
    {
     "data": {
      "text/plain": [
       "<AxesSubplot:xlabel='Outlet_Type'>"
      ]
     },
     "execution_count": 37,
     "metadata": {},
     "output_type": "execute_result"
    },
    {
     "data": {
      "image/png": "[encoded data removed]",
      "text/plain": [
       "<Figure size 432x288 with 1 Axes>"
      ]
     },
     "metadata": {
      "needs_background": "light"
     },
     "output_type": "display_data"
    }
   ],
   "source": [
    "df.groupby(['Outlet_Type'])[\"Item_Outlet_Sales\"].sum().plot(kind = 'bar')"
   ]
  },
  {
   "cell_type": "markdown",
   "id": "6afee644",
   "metadata": {},
   "source": [
    "from above visualization's we can see in which features which category have more item_outlet_sales\n",
    "- in Outlet_Type: Supermarket Type1 had maximum sales\n",
    "- in Item_Type: customer mainly buy products like vegtable & fruits, Snakes food and Household products etc\n",
    "- the maximum sales we get from outlets situated in tier 3 city.\n",
    "- Outlet OUT027 had maximum sales.\n",
    "- sales is maximum for oulet size medium"
   ]
  },
  {
   "cell_type": "markdown",
   "id": "46fe0a9d",
   "metadata": {},
   "source": [
    "# Information About Each Outlet"
   ]
  },
  {
   "cell_type": "code",
   "execution_count": 38,
   "id": "089c5e0c",
   "metadata": {},
   "outputs": [
    {
     "name": "stdout",
     "output_type": "stream",
     "text": [
      "OUTLET: OUT049\n",
      " Established in year: 1999\n",
      " Size: ['Medium']\n",
      " Location Type: ['Tier 1']\n",
      " Outlet Type: ['Supermarket Type1']\n",
      " Total Sale: 2183969\n",
      " Average Sales: 2348\n",
      " \n",
      "OUTLET: OUT018\n",
      " Established in year: 2009\n",
      " Size: ['Medium']\n",
      " Location Type: ['Tier 3']\n",
      " Outlet Type: ['Supermarket Type2']\n",
      " Total Sale: 1851822\n",
      " Average Sales: 1995\n",
      " \n",
      "OUTLET: OUT010\n",
      " Established in year: 1998\n",
      " Size: ['Small']\n",
      " Location Type: ['Tier 3']\n",
      " Outlet Type: ['Grocery Store']\n",
      " Total Sale: 188340\n",
      " Average Sales: 339\n",
      " \n",
      "OUTLET: OUT013\n",
      " Established in year: 1987\n",
      " Size: ['High']\n",
      " Location Type: ['Tier 3']\n",
      " Outlet Type: ['Supermarket Type1']\n",
      " Total Sale: 2142663\n",
      " Average Sales: 2298\n",
      " \n",
      "OUTLET: OUT027\n",
      " Established in year: 1985\n",
      " Size: ['Medium']\n",
      " Location Type: ['Tier 3']\n",
      " Outlet Type: ['Supermarket Type3']\n",
      " Total Sale: 3453926\n",
      " Average Sales: 3694\n",
      " \n",
      "OUTLET: OUT045\n",
      " Established in year: 2002\n",
      " Size: ['High']\n",
      " Location Type: ['Tier 2']\n",
      " Outlet Type: ['Supermarket Type1']\n",
      " Total Sale: 2036725\n",
      " Average Sales: 2192\n",
      " \n",
      "OUTLET: OUT017\n",
      " Established in year: 2007\n",
      " Size: ['High']\n",
      " Location Type: ['Tier 2']\n",
      " Outlet Type: ['Supermarket Type1']\n",
      " Total Sale: 2167465\n",
      " Average Sales: 2340\n",
      " \n",
      "OUTLET: OUT046\n",
      " Established in year: 1997\n",
      " Size: ['Small']\n",
      " Location Type: ['Tier 1']\n",
      " Outlet Type: ['Supermarket Type1']\n",
      " Total Sale: 2118395\n",
      " Average Sales: 2277\n",
      " \n",
      "OUTLET: OUT035\n",
      " Established in year: 2004\n",
      " Size: ['Small']\n",
      " Location Type: ['Tier 2']\n",
      " Outlet Type: ['Supermarket Type1']\n",
      " Total Sale: 2268122\n",
      " Average Sales: 2438\n",
      " \n",
      "OUTLET: OUT019\n",
      " Established in year: 1985\n",
      " Size: ['Small']\n",
      " Location Type: ['Tier 1']\n",
      " Outlet Type: ['Grocery Store']\n",
      " Total Sale: 179694\n",
      " Average Sales: 340\n",
      " \n"
     ]
    }
   ],
   "source": [
    "for i in df['Outlet_Identifier'].unique():\n",
    "    a = int(df[df['Outlet_Identifier'] == i]['Outlet_Establishment_Year'].unique())\n",
    "    b = str(df[df['Outlet_Identifier'] == i]['Outlet_Size'].unique())\n",
    "    c = str(df[df['Outlet_Identifier'] == i]['Outlet_Location_Type'].unique())\n",
    "    d = str(df[df['Outlet_Identifier'] == i]['Outlet_Type'].unique())\n",
    "    e = int(df[df['Outlet_Identifier'] == i]['Item_Outlet_Sales'].sum())\n",
    "    f = int(df[df['Outlet_Identifier'] == i]['Item_Outlet_Sales'].mean())\n",
    "    print(\"OUTLET: {}\\n Established in year: {}\\n Size: {}\\n Location Type: {}\\n Outlet Type: {}\\n Total Sale: {}\\n Average Sales: {}\".format(i,a,b,c,d,e,f))\n",
    "    print(\" \")"
   ]
  },
  {
   "cell_type": "code",
   "execution_count": null,
   "id": "aeb89f7d",
   "metadata": {},
   "outputs": [],
   "source": [
    "sns.pairplot(df)"
   ]
  },
  {
   "cell_type": "markdown",
   "id": "24def946",
   "metadata": {},
   "source": [
    "Not got much info from this pairplot but get to know that \n",
    "- Items with great visiblity have less Item oulet sales\n",
    "- Items with more MRP have move Item outlet sales"
   ]
  },
  {
   "cell_type": "code",
   "execution_count": null,
   "id": "0ce3146d",
   "metadata": {},
   "outputs": [],
   "source": [
    "sns.displot(df['Item_MRP'], kde =True)"
   ]
  },
  {
   "cell_type": "code",
   "execution_count": null,
   "id": "6b9ec3c9",
   "metadata": {},
   "outputs": [],
   "source": [
    "plt.figure(figsize = (25,10))\n",
    "sns.barplot(x = df['Item_Type'], y = df['Item_Outlet_Sales'], hue = df['Item_Fat_Content'])"
   ]
  },
  {
   "cell_type": "code",
   "execution_count": null,
   "id": "034bd1a9",
   "metadata": {},
   "outputs": [],
   "source": [
    "plt.figure(figsize = (10, 5)) \n",
    "sns.barplot(x = df['Outlet_Type'], y = df['Item_Outlet_Sales'], hue = df['Outlet_Location_Type'])"
   ]
  },
  {
   "cell_type": "code",
   "execution_count": null,
   "id": "a1a6877c",
   "metadata": {},
   "outputs": [],
   "source": [
    "plt.figure(figsize = (10, 5)) # df['Item_Outlet_Sales'] df['Outlet_Type']\n",
    "sns.barplot(x = 'Outlet_Type', y = 'Item_Outlet_Sales', hue = 'Outlet_Size', data = df)"
   ]
  },
  {
   "cell_type": "code",
   "execution_count": null,
   "id": "9056125b",
   "metadata": {},
   "outputs": [],
   "source": [
    "df3 = df[(df['Outlet_Identifier'] == 'OUT010') | (df['Outlet_Identifier'] == 'OUT019')]"
   ]
  },
  {
   "cell_type": "code",
   "execution_count": null,
   "id": "110b6b88",
   "metadata": {},
   "outputs": [],
   "source": [
    "df3"
   ]
  },
  {
   "cell_type": "code",
   "execution_count": null,
   "id": "1462a584",
   "metadata": {},
   "outputs": [],
   "source": [
    "for i in cat_columns:\n",
    "    print(df3[i].value_counts())"
   ]
  },
  {
   "cell_type": "code",
   "execution_count": null,
   "id": "cd7f772f",
   "metadata": {},
   "outputs": [],
   "source": [
    "df3.nunique()"
   ]
  },
  {
   "cell_type": "markdown",
   "id": "67260891",
   "metadata": {},
   "source": [
    "## Ferture Engineering"
   ]
  },
  {
   "cell_type": "code",
   "execution_count": null,
   "id": "aa23864a",
   "metadata": {},
   "outputs": [],
   "source": [
    "df"
   ]
  },
  {
   "cell_type": "code",
   "execution_count": null,
   "id": "a73a8613",
   "metadata": {},
   "outputs": [],
   "source": [
    "#removing feature's those who have less correlation with target variable\n",
    "a = ['Item_Identifier', 'Item_Weight', 'Item_Visibility', 'Outlet_Establishment_Year']\n",
    "df = df.drop(columns = a)"
   ]
  },
  {
   "cell_type": "code",
   "execution_count": null,
   "id": "5ca9fa53",
   "metadata": {},
   "outputs": [],
   "source": [
    "df"
   ]
  },
  {
   "cell_type": "code",
   "execution_count": null,
   "id": "fae4ce50",
   "metadata": {},
   "outputs": [],
   "source": [
    "# performing Lable Encoding\n",
    "df['Item_Fat_Content'] = df['Item_Fat_Content'].map({'Low Fat': 1, 'Regular': 0})\n",
    "df['Outlet_Size'] = df['Outlet_Size'].map({'Small': 0, 'Medium': 1, 'High': 2})\n",
    "df['Outlet_Location_Type'] = df['Outlet_Location_Type'].map({'Tier 1': 0, 'Tier 2': 1, 'Tier 3': 2})\n",
    "df['Outlet_Type'] = df['Outlet_Type'].map({'Grocery Store': 0, 'Supermarket Type1': 1, 'Supermarket Type2': 2, 'Supermarket Type3': 3})"
   ]
  },
  {
   "cell_type": "code",
   "execution_count": null,
   "id": "1a23acaf",
   "metadata": {},
   "outputs": [],
   "source": [
    "df"
   ]
  },
  {
   "cell_type": "code",
   "execution_count": null,
   "id": "82195d8d",
   "metadata": {
    "scrolled": true
   },
   "outputs": [],
   "source": [
    "df['Item_Type'].value_counts()"
   ]
  },
  {
   "cell_type": "code",
   "execution_count": null,
   "id": "e3fe5d83",
   "metadata": {},
   "outputs": [],
   "source": [
    "df['Item_Type'] = df['Item_Type'].replace(['Canned', 'Meat'], 'Meat & Canned')\n",
    "df['Item_Type'] = df['Item_Type'].replace(['Dairy', 'Breads', 'Breakfast'], 'Dairy, Breads & Breakfast')\n",
    "df['Item_Type'] = df['Item_Type'].replace(['Frozen Foods', 'Baking Goods'], 'Frozen & Baking Foods')\n",
    "df['Item_Type'] = df['Item_Type'].replace(['Household', 'Health and Hygiene'], 'Household & Health')\n",
    "df['Item_Type'] = df['Item_Type'].replace(['Soft Drinks', 'Hard Drinks', 'Others', 'Starchy Foods', 'Seafood'], 'Other')"
   ]
  },
  {
   "cell_type": "code",
   "execution_count": null,
   "id": "db3abe15",
   "metadata": {},
   "outputs": [],
   "source": [
    "df['Item_Type'] = df['Item_Type'].map({'Frozen & Baking Foods': 0, 'Household & Health': 1, 'Fruits and Vegetables': 2, 'Snack Foods': 3, 'Meat & Canned': 4, 'Dairy & Breads': 5, 'Other': 6})"
   ]
  },
  {
   "cell_type": "code",
   "execution_count": null,
   "id": "b3688cf0",
   "metadata": {},
   "outputs": [],
   "source": [
    "df"
   ]
  },
  {
   "cell_type": "code",
   "execution_count": null,
   "id": "8de6a896",
   "metadata": {},
   "outputs": [],
   "source": [
    "#Performing One Hot Encoding on feature Outlet_Identifier\n",
    "from sklearn.preprocessing import OneHotEncoder\n",
    "encoder = OneHotEncoder()"
   ]
  },
  {
   "cell_type": "code",
   "execution_count": null,
   "id": "466ee5dc",
   "metadata": {},
   "outputs": [],
   "source": [
    "encoded = encoder.fit_transform(df[['Outlet_Identifier']])"
   ]
  },
  {
   "cell_type": "code",
   "execution_count": null,
   "id": "e28dceff",
   "metadata": {},
   "outputs": [],
   "source": [
    "encoded_df = pd.DataFrame(encoded.toarray(), columns = encoder.get_feature_names_out())"
   ]
  },
  {
   "cell_type": "code",
   "execution_count": null,
   "id": "c601d936",
   "metadata": {
    "scrolled": true
   },
   "outputs": [],
   "source": [
    "encoded_df"
   ]
  },
  {
   "cell_type": "code",
   "execution_count": null,
   "id": "497a2810",
   "metadata": {},
   "outputs": [],
   "source": [
    "df = pd.concat([df, encoded_df], axis =1)"
   ]
  },
  {
   "cell_type": "code",
   "execution_count": null,
   "id": "e6a21330",
   "metadata": {},
   "outputs": [],
   "source": [
    "df = df.drop('Outlet_Identifier', axis =1)"
   ]
  },
  {
   "cell_type": "code",
   "execution_count": null,
   "id": "12fc0f4b",
   "metadata": {},
   "outputs": [],
   "source": [
    "df['Item_Type']=df['Item_Type'].fillna(method = 'bfill', axis =0)"
   ]
  },
  {
   "cell_type": "code",
   "execution_count": null,
   "id": "14a08355",
   "metadata": {},
   "outputs": [],
   "source": [
    "df['Item_Type'].value_counts()"
   ]
  },
  {
   "cell_type": "code",
   "execution_count": null,
   "id": "82472602",
   "metadata": {},
   "outputs": [],
   "source": [
    "df.isnull().sum()"
   ]
  },
  {
   "cell_type": "markdown",
   "id": "bd656b62",
   "metadata": {},
   "source": [
    "# Loading and Cleaning Test Dataset"
   ]
  },
  {
   "cell_type": "code",
   "execution_count": null,
   "id": "2f4fda48",
   "metadata": {},
   "outputs": [],
   "source": [
    "df2 = pd.read_csv('Test.csv')"
   ]
  },
  {
   "cell_type": "code",
   "execution_count": null,
   "id": "15ee4933",
   "metadata": {},
   "outputs": [],
   "source": [
    "df2_copy = df2"
   ]
  },
  {
   "cell_type": "code",
   "execution_count": null,
   "id": "35e21318",
   "metadata": {},
   "outputs": [],
   "source": [
    "df2"
   ]
  },
  {
   "cell_type": "code",
   "execution_count": null,
   "id": "e70d75a3",
   "metadata": {},
   "outputs": [],
   "source": [
    "df2.shape"
   ]
  },
  {
   "cell_type": "code",
   "execution_count": null,
   "id": "3c8bd9dd",
   "metadata": {},
   "outputs": [],
   "source": [
    "df2.info()"
   ]
  },
  {
   "cell_type": "code",
   "execution_count": null,
   "id": "6b8c298f",
   "metadata": {},
   "outputs": [],
   "source": [
    "df2.isnull().sum()"
   ]
  },
  {
   "cell_type": "code",
   "execution_count": null,
   "id": "6d1280d2",
   "metadata": {},
   "outputs": [],
   "source": [
    "df2[\"Item_Fat_Content\"] = df2[\"Item_Fat_Content\"].str.replace('LF', 'Low Fat')\n",
    "df2[\"Item_Fat_Content\"] = df2[\"Item_Fat_Content\"].str.replace('low fat', 'Low Fat')\n",
    "df2[\"Item_Fat_Content\"] = df2[\"Item_Fat_Content\"].str.replace('reg', 'Regular')"
   ]
  },
  {
   "cell_type": "code",
   "execution_count": null,
   "id": "fcb40018",
   "metadata": {},
   "outputs": [],
   "source": [
    "df2.loc[df2['Outlet_Identifier'] == 'OUT010', 'Outlet_Size'] = 'Small'\n",
    "df2['Outlet_Size'].fillna('High', inplace = True)"
   ]
  },
  {
   "cell_type": "code",
   "execution_count": null,
   "id": "2bbf6ee9",
   "metadata": {},
   "outputs": [],
   "source": [
    "a = ['Item_Identifier', 'Item_Weight', 'Item_Visibility', 'Outlet_Establishment_Year']\n",
    "df2 = df2.drop(columns = a)"
   ]
  },
  {
   "cell_type": "code",
   "execution_count": null,
   "id": "9f218678",
   "metadata": {},
   "outputs": [],
   "source": [
    "df2"
   ]
  },
  {
   "cell_type": "code",
   "execution_count": null,
   "id": "8e853e6e",
   "metadata": {},
   "outputs": [],
   "source": [
    "df2['Item_Fat_Content'] = df2['Item_Fat_Content'].map({'Low Fat': 1, 'Regular': 0})\n",
    "df2['Outlet_Size'] = df2['Outlet_Size'].map({'Small': 0, 'Medium': 1, 'High': 2})\n",
    "df2['Outlet_Location_Type'] = df2['Outlet_Location_Type'].map({'Tier 1': 0, 'Tier 2': 1, 'Tier 3': 2})\n",
    "df2['Outlet_Type'] = df2['Outlet_Type'].map({'Grocery Store': 0, 'Supermarket Type1': 1, 'Supermarket Type2': 2, 'Supermarket Type3': 3})"
   ]
  },
  {
   "cell_type": "code",
   "execution_count": null,
   "id": "bb1ac7db",
   "metadata": {},
   "outputs": [],
   "source": [
    "df2['Item_Type'] = df2['Item_Type'].replace(['Canned', 'Meat'], 'Meat & Canned')\n",
    "df2['Item_Type'] = df2['Item_Type'].replace(['Dairy', 'Breads', 'Breakfast'], 'Dairy, Breads & Breakfast')\n",
    "df2['Item_Type'] = df2['Item_Type'].replace(['Frozen Foods', 'Baking Goods'], 'Frozen & Baking Foods')\n",
    "df2['Item_Type'] = df2['Item_Type'].replace(['Household', 'Health and Hygiene'], 'Household & Health')\n",
    "df2['Item_Type'] = df2['Item_Type'].replace(['Soft Drinks', 'Hard Drinks', 'Others', 'Starchy Foods', 'Seafood'], 'Other')"
   ]
  },
  {
   "cell_type": "code",
   "execution_count": null,
   "id": "083f09b7",
   "metadata": {},
   "outputs": [],
   "source": [
    "df2['Item_Type'] = df2['Item_Type'].map({'Frozen & Baking Foods': 0, 'Household & Health': 1, 'Fruits and Vegetables': 2, 'Snack Foods': 3, 'Meat & Canned': 4, 'Dairy & Breads': 5, 'Other': 6})"
   ]
  },
  {
   "cell_type": "code",
   "execution_count": null,
   "id": "3491e32d",
   "metadata": {},
   "outputs": [],
   "source": [
    "#df2['Item_MRP'] = min_max.fit_transform(df2[['Item_MRP']])"
   ]
  },
  {
   "cell_type": "code",
   "execution_count": null,
   "id": "06302699",
   "metadata": {},
   "outputs": [],
   "source": [
    "encoded = encoder.fit_transform(df2[['Outlet_Identifier']])\n",
    "encoded_df2 = pd.DataFrame(encoded.toarray(), columns = encoder.get_feature_names_out())"
   ]
  },
  {
   "cell_type": "code",
   "execution_count": null,
   "id": "e29e1214",
   "metadata": {},
   "outputs": [],
   "source": [
    "df2"
   ]
  },
  {
   "cell_type": "code",
   "execution_count": null,
   "id": "246e52be",
   "metadata": {},
   "outputs": [],
   "source": [
    "df2 = pd.concat([df2, encoded_df2], axis =1)"
   ]
  },
  {
   "cell_type": "code",
   "execution_count": null,
   "id": "48a8d4ae",
   "metadata": {},
   "outputs": [],
   "source": [
    "df2 = df2.drop('Outlet_Identifier', axis =1)"
   ]
  },
  {
   "cell_type": "code",
   "execution_count": null,
   "id": "d88b418f",
   "metadata": {},
   "outputs": [],
   "source": [
    "df2['Item_Type']=df2['Item_Type'].fillna(method = 'bfill', axis =0)"
   ]
  },
  {
   "cell_type": "code",
   "execution_count": null,
   "id": "a6451ebc",
   "metadata": {},
   "outputs": [],
   "source": [
    "df"
   ]
  },
  {
   "cell_type": "code",
   "execution_count": null,
   "id": "959f3fc3",
   "metadata": {},
   "outputs": [],
   "source": [
    "df2"
   ]
  },
  {
   "cell_type": "markdown",
   "id": "30cdcba7",
   "metadata": {},
   "source": [
    "# Model Training"
   ]
  },
  {
   "cell_type": "code",
   "execution_count": null,
   "id": "6af8455e",
   "metadata": {},
   "outputs": [],
   "source": [
    "Y= df['Item_Outlet_Sales']"
   ]
  },
  {
   "cell_type": "code",
   "execution_count": null,
   "id": "fb8ad161",
   "metadata": {},
   "outputs": [],
   "source": [
    "df = df.drop('Item_Outlet_Sales', axis = 1)"
   ]
  },
  {
   "cell_type": "code",
   "execution_count": null,
   "id": "d22416e3",
   "metadata": {},
   "outputs": [],
   "source": [
    "X = df"
   ]
  },
  {
   "cell_type": "markdown",
   "id": "0fb70f34",
   "metadata": {},
   "source": [
    "Train and Test Split"
   ]
  },
  {
   "cell_type": "code",
   "execution_count": null,
   "id": "423c31f0",
   "metadata": {},
   "outputs": [],
   "source": [
    "from sklearn.model_selection import train_test_split"
   ]
  },
  {
   "cell_type": "code",
   "execution_count": null,
   "id": "e9fa25fd",
   "metadata": {},
   "outputs": [],
   "source": [
    "x_train, x_test, y_train, y_test = train_test_split(X,Y, test_size = 0.30, random_state = 10)"
   ]
  },
  {
   "cell_type": "code",
   "execution_count": null,
   "id": "d41c1833",
   "metadata": {},
   "outputs": [],
   "source": [
    "# Performing Standardization\n",
    "from sklearn.preprocessing import StandardScaler"
   ]
  },
  {
   "cell_type": "code",
   "execution_count": null,
   "id": "9d167ad9",
   "metadata": {},
   "outputs": [],
   "source": [
    "scaler = StandardScaler()"
   ]
  },
  {
   "cell_type": "code",
   "execution_count": null,
   "id": "a6809256",
   "metadata": {},
   "outputs": [],
   "source": [
    "x_train_scaled = scaler.fit_transform(x_train)"
   ]
  },
  {
   "cell_type": "code",
   "execution_count": null,
   "id": "42fb03ab",
   "metadata": {},
   "outputs": [],
   "source": [
    "x_test_scaled = scaler.transform(x_test)"
   ]
  },
  {
   "cell_type": "markdown",
   "id": "b6889b19",
   "metadata": {},
   "source": [
    "### Linear Regression Model"
   ]
  },
  {
   "cell_type": "code",
   "execution_count": null,
   "id": "b2ee9366",
   "metadata": {},
   "outputs": [],
   "source": [
    "from sklearn.linear_model import LinearRegression\n",
    "regression = LinearRegression()"
   ]
  },
  {
   "cell_type": "code",
   "execution_count": null,
   "id": "f93db127",
   "metadata": {},
   "outputs": [],
   "source": [
    "regression.fit(x_train_scaled, y_train)"
   ]
  },
  {
   "cell_type": "code",
   "execution_count": null,
   "id": "e615a41d",
   "metadata": {},
   "outputs": [],
   "source": [
    "y_pred_test = regression.predict(x_test_scaled)"
   ]
  },
  {
   "cell_type": "code",
   "execution_count": null,
   "id": "63efcc08",
   "metadata": {},
   "outputs": [],
   "source": [
    "from sklearn.metrics import mean_squared_error, mean_absolute_error, r2_score"
   ]
  },
  {
   "cell_type": "code",
   "execution_count": null,
   "id": "93be0ed3",
   "metadata": {},
   "outputs": [],
   "source": [
    "print(mean_squared_error(y_test, y_pred_test))\n",
    "print(mean_absolute_error(y_test, y_pred_test))\n",
    "print(np.sqrt(mean_squared_error(y_test, y_pred_test)))"
   ]
  },
  {
   "cell_type": "code",
   "execution_count": null,
   "id": "488e92a4",
   "metadata": {},
   "outputs": [],
   "source": [
    "# R squared score\n",
    "score = r2_score(y_test, y_pred_test)\n",
    "score"
   ]
  },
  {
   "cell_type": "code",
   "execution_count": null,
   "id": "567a4fad",
   "metadata": {},
   "outputs": [],
   "source": [
    "#Adjsuted R sqaured value\n",
    "1-((1-score)*(len(y_test)-1)/(len(y_test)-(x_test.shape[1])-1))"
   ]
  },
  {
   "cell_type": "markdown",
   "id": "8baa25f5",
   "metadata": {},
   "source": [
    "### Regularized Linear Regression"
   ]
  },
  {
   "cell_type": "code",
   "execution_count": null,
   "id": "3b1c33f3",
   "metadata": {},
   "outputs": [],
   "source": [
    "from sklearn.linear_model import ElasticNet, Ridge, Lasso\n",
    "elastic = ElasticNet()\n",
    "ridge = Ridge()\n",
    "lasso = Lasso()"
   ]
  },
  {
   "cell_type": "code",
   "execution_count": null,
   "id": "08ba462c",
   "metadata": {},
   "outputs": [],
   "source": [
    "elastic.fit(x_train_scaled, y_train)"
   ]
  },
  {
   "cell_type": "code",
   "execution_count": null,
   "id": "84bc4de9",
   "metadata": {},
   "outputs": [],
   "source": [
    "y_pred_elastic = elastic.predict(x_test_scaled)"
   ]
  },
  {
   "cell_type": "code",
   "execution_count": null,
   "id": "9b72d77f",
   "metadata": {},
   "outputs": [],
   "source": [
    "y_pred_elastic"
   ]
  },
  {
   "cell_type": "code",
   "execution_count": null,
   "id": "3d794385",
   "metadata": {},
   "outputs": [],
   "source": [
    "score = r2_score(y_test, y_pred_elastic)"
   ]
  },
  {
   "cell_type": "code",
   "execution_count": null,
   "id": "567027f2",
   "metadata": {},
   "outputs": [],
   "source": [
    "score"
   ]
  },
  {
   "cell_type": "code",
   "execution_count": null,
   "id": "f3463944",
   "metadata": {},
   "outputs": [],
   "source": [
    "ridge.fit(x_train_scaled, y_train)"
   ]
  },
  {
   "cell_type": "code",
   "execution_count": null,
   "id": "a6545edd",
   "metadata": {},
   "outputs": [],
   "source": [
    "y_pred_ridge = ridge.predict(x_test_scaled)"
   ]
  },
  {
   "cell_type": "code",
   "execution_count": null,
   "id": "43f6422b",
   "metadata": {},
   "outputs": [],
   "source": [
    "y_pred_ridge"
   ]
  },
  {
   "cell_type": "code",
   "execution_count": null,
   "id": "c9e41edf",
   "metadata": {},
   "outputs": [],
   "source": [
    "score = r2_score(y_test, y_pred_ridge)"
   ]
  },
  {
   "cell_type": "code",
   "execution_count": null,
   "id": "aa70db6b",
   "metadata": {},
   "outputs": [],
   "source": [
    "score"
   ]
  },
  {
   "cell_type": "code",
   "execution_count": null,
   "id": "10af51ae",
   "metadata": {},
   "outputs": [],
   "source": [
    "lasso.fit(x_train_scaled, y_train)"
   ]
  },
  {
   "cell_type": "code",
   "execution_count": null,
   "id": "a1b71d15",
   "metadata": {},
   "outputs": [],
   "source": [
    "y_pred_lasso = lasso.predict(x_test_scaled)\n",
    "y_pred_lasso"
   ]
  },
  {
   "cell_type": "code",
   "execution_count": null,
   "id": "45615e8d",
   "metadata": {},
   "outputs": [],
   "source": [
    "score = r2_score(y_test, y_pred_lasso)\n",
    "score"
   ]
  },
  {
   "cell_type": "markdown",
   "id": "0f561d7a",
   "metadata": {},
   "source": [
    "### XGBoost"
   ]
  },
  {
   "cell_type": "code",
   "execution_count": null,
   "id": "91082b19",
   "metadata": {},
   "outputs": [],
   "source": [
    "!pip install xgboost"
   ]
  },
  {
   "cell_type": "code",
   "execution_count": null,
   "id": "0a628171",
   "metadata": {},
   "outputs": [],
   "source": [
    "import xgboost as xg"
   ]
  },
  {
   "cell_type": "code",
   "execution_count": null,
   "id": "0bf60166",
   "metadata": {},
   "outputs": [],
   "source": [
    "xgb_model = xg.XGBRegressor(objective ='reg:linear', n_estimators = 10, seed = 123)\n",
    "xgb_model.fit(x_train, y_train)"
   ]
  },
  {
   "cell_type": "code",
   "execution_count": null,
   "id": "76838212",
   "metadata": {},
   "outputs": [],
   "source": [
    "pred = xgb_model.predict(x_test)"
   ]
  },
  {
   "cell_type": "code",
   "execution_count": null,
   "id": "87e9a158",
   "metadata": {},
   "outputs": [],
   "source": [
    "print(mean_squared_error(y_test, pred))\n",
    "print(r2_score(y_test, pred))"
   ]
  },
  {
   "cell_type": "markdown",
   "id": "181c1c36",
   "metadata": {},
   "source": [
    "### Random Forest Regression"
   ]
  },
  {
   "cell_type": "code",
   "execution_count": null,
   "id": "86f8233a",
   "metadata": {},
   "outputs": [],
   "source": [
    "from sklearn.ensemble import RandomForestRegressor"
   ]
  },
  {
   "cell_type": "code",
   "execution_count": null,
   "id": "5747f93c",
   "metadata": {},
   "outputs": [],
   "source": [
    "rf_model = RandomForestRegressor(n_estimators=100, random_state=42)\n",
    "rf_model.fit(x_train, y_train)"
   ]
  },
  {
   "cell_type": "code",
   "execution_count": null,
   "id": "38ae81ce",
   "metadata": {},
   "outputs": [],
   "source": [
    "y_pred = rf_model.predict(x_test)"
   ]
  },
  {
   "cell_type": "code",
   "execution_count": null,
   "id": "4f584d13",
   "metadata": {},
   "outputs": [],
   "source": [
    "y_pred"
   ]
  },
  {
   "cell_type": "code",
   "execution_count": null,
   "id": "a6681023",
   "metadata": {},
   "outputs": [],
   "source": [
    "print(mean_squared_error(y_test, y_pred))\n",
    "print(r2_score(y_test, y_pred))"
   ]
  },
  {
   "cell_type": "markdown",
   "id": "30ac32dd",
   "metadata": {},
   "source": [
    "### Outcomes\n",
    "- In Linear Regression we got accuracy of: 0.5652473150252685\n",
    "- In ElasticNet we got accuracy of: 0.5146367472365023\n",
    "- In Lasso we got accuracy of: 0.5652358780381135\n",
    "- In Ridge we got accuracy of: 0.5651475899979972\n",
    "- In XGBoost Regression we got accuracy of: 0.5909785918987005\n",
    "- In Random Forest regression we got accuracy of: 0.5060450535154192\n",
    "    \n",
    "    Hence We got maximum accuracy in XGBoost Regression. Therefore we will be using XGBoost Regression for Predictive Model."
   ]
  },
  {
   "cell_type": "markdown",
   "id": "bd3ad465",
   "metadata": {},
   "source": [
    "# Predictive Model"
   ]
  },
  {
   "cell_type": "code",
   "execution_count": null,
   "id": "a451a0c9",
   "metadata": {},
   "outputs": [],
   "source": [
    "X_test= df2"
   ]
  },
  {
   "cell_type": "code",
   "execution_count": null,
   "id": "a89e0aa5",
   "metadata": {},
   "outputs": [],
   "source": [
    "X_test_scaled = scaler.transform(X_test)"
   ]
  },
  {
   "cell_type": "code",
   "execution_count": null,
   "id": "4b2b09b7",
   "metadata": {},
   "outputs": [],
   "source": [
    "X_train_scaled = scaler.fit_transform(X)"
   ]
  },
  {
   "cell_type": "code",
   "execution_count": null,
   "id": "5e8ffc4e",
   "metadata": {},
   "outputs": [],
   "source": [
    "xgb_model.fit(X_train_scaled, Y)"
   ]
  },
  {
   "cell_type": "code",
   "execution_count": null,
   "id": "2eef32b5",
   "metadata": {},
   "outputs": [],
   "source": [
    "Y_pred_test = xgb_model.predict(X_test_scaled)"
   ]
  },
  {
   "cell_type": "code",
   "execution_count": null,
   "id": "0e5406f0",
   "metadata": {},
   "outputs": [],
   "source": [
    "Y_pred_test"
   ]
  },
  {
   "cell_type": "code",
   "execution_count": null,
   "id": "7e7f0568",
   "metadata": {},
   "outputs": [],
   "source": [
    "df3 = pd.DataFrame(Y_pred_test, columns = ['Item_Outlet_Sales'])"
   ]
  },
  {
   "cell_type": "code",
   "execution_count": null,
   "id": "0f1cefa0",
   "metadata": {},
   "outputs": [],
   "source": [
    "df3"
   ]
  },
  {
   "cell_type": "code",
   "execution_count": null,
   "id": "123d8204",
   "metadata": {},
   "outputs": [],
   "source": [
    "final_df = pd.concat([df2_copy,df3], axis =1)"
   ]
  },
  {
   "cell_type": "code",
   "execution_count": null,
   "id": "5c653db4",
   "metadata": {},
   "outputs": [],
   "source": [
    "final_df"
   ]
  },
  {
   "cell_type": "code",
   "execution_count": null,
   "id": "e92a09f5",
   "metadata": {},
   "outputs": [],
   "source": []
  }
 ],
 "metadata": {
  "kernelspec": {
   "display_name": "Python 3",
   "language": "python",
   "name": "python3"
  },
  "language_info": {
   "codemirror_mode": {
    "name": "ipython",
    "version": 3
   },
   "file_extension": ".py",
   "mimetype": "text/x-python",
   "name": "python",
   "nbconvert_exporter": "python",
   "pygments_lexer": "ipython3",
   "version": "3.8.8"
  }
 },
 "nbformat": 4,
 "nbformat_minor": 5
}
